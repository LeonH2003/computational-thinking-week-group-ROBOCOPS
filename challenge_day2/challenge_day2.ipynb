{
 "cells": [
  {
   "attachments": {},
   "cell_type": "markdown",
   "metadata": {},
   "source": [
    "# Observation Challenge\n",
    "\n",
    "In this challenge, you have to create an algorithm based on several algorithm parts.\n",
    "\n",
    "## Stations\n",
    "Across the JK building, we have placed several stations. At each station, you can find sample inputs and their expected outputs for one of the algorithm parts.\n",
    "You must decipher the algorithm behind each station yourself.\n",
    "The locations of all the stations are listed where Lukas and Roland are sitting.\n",
    "\n",
    "# Your task\n",
    "- Create files in this directory named station1.py, station2.py, etc.\n",
    "- Each member of the team must commit (including any changes) at least one of these files.\n",
    "- Each of these files contains a function named solution_station_X(), where X is the station number, same as the file name\n",
    "- Fill out the cell below and generate the correct overall output\n",
    "- You are allowed to use all built-in Python modules, as well as numpy and pandas in your solutions."
   ]
  },
  {
   "cell_type": "code",
   "execution_count": null,
   "metadata": {},
   "outputs": [
    {
     "name": "stdout",
     "output_type": "stream",
     "text": [
      "2504730781961\n",
      "月曜日\n",
      "False\n",
      "False\n",
      "Type of output5: <class 'int'>\n",
      "-0.026551154023966794\n",
      "12.0\n",
      "31940434634990198784\n",
      "月曜日\n",
      "False\n",
      "False\n",
      "Type of output5: <class 'int'>\n",
      "0.9906073556948704\n",
      "10.5\n",
      "4660046610375544832\n",
      "土曜日\n",
      "True\n",
      "False\n",
      "Type of output5: <class 'int'>\n",
      "-0.8462204041751706\n",
      "10.5\n"
     ]
    },
    {
     "ename": "AssertionError",
     "evalue": "",
     "output_type": "error",
     "traceback": [
      "\u001b[1;31m---------------------------------------------------------------------------\u001b[0m",
      "\u001b[1;31mAssertionError\u001b[0m                            Traceback (most recent call last)",
      "Cell \u001b[1;32mIn[8], line 45\u001b[0m\n\u001b[0;32m     43\u001b[0m FINAL_OUTPUT2 \u001b[38;5;241m=\u001b[39m combined_algorithm(observation2)\n\u001b[0;32m     44\u001b[0m FINAL_OUTPUT3 \u001b[38;5;241m=\u001b[39m combined_algorithm(observation3)\n\u001b[1;32m---> 45\u001b[0m tests\u001b[38;5;241m.\u001b[39mTest_Exercise(combined_algorithm)\n",
      "File \u001b[1;32mc:\\Users\\leonh\\OneDrive\\Desktop\\UvA\\Year2_2\\Semster 1\\computational-thinking-week-group-ROBOCOPS\\utility\\edutest\\edutest.py:73\u001b[0m, in \u001b[0;36mTestSuite.__init__\u001b[1;34m(self, tested_func, **kwargs)\u001b[0m\n\u001b[0;32m     71\u001b[0m \u001b[38;5;28mself\u001b[39m\u001b[38;5;241m.\u001b[39mtested_func \u001b[38;5;241m=\u001b[39m tested_func\n\u001b[0;32m     72\u001b[0m \u001b[38;5;28;01mfor\u001b[39;00m test_case \u001b[38;5;129;01min\u001b[39;00m \u001b[38;5;28mself\u001b[39m\u001b[38;5;241m.\u001b[39mtest_cases:\n\u001b[1;32m---> 73\u001b[0m     result \u001b[38;5;241m=\u001b[39m test_case(tested_func, \u001b[38;5;241m*\u001b[39m\u001b[38;5;241m*\u001b[39mkwargs)\u001b[38;5;241m.\u001b[39meval()\n\u001b[0;32m     74\u001b[0m     \u001b[38;5;28;01mif\u001b[39;00m \u001b[38;5;129;01mnot\u001b[39;00m result:\n\u001b[0;32m     75\u001b[0m         \u001b[38;5;28mself\u001b[39m\u001b[38;5;241m.\u001b[39mall_tests_passed \u001b[38;5;241m=\u001b[39m \u001b[38;5;28;01mFalse\u001b[39;00m\n",
      "File \u001b[1;32mc:\\Users\\leonh\\OneDrive\\Desktop\\UvA\\Year2_2\\Semster 1\\computational-thinking-week-group-ROBOCOPS\\utility\\edutest\\edutest.py:24\u001b[0m, in \u001b[0;36mTestCase.eval\u001b[1;34m(self)\u001b[0m\n\u001b[0;32m     22\u001b[0m \u001b[38;5;28;01mdef\u001b[39;00m \u001b[38;5;21meval\u001b[39m(\u001b[38;5;28mself\u001b[39m):\n\u001b[0;32m     23\u001b[0m \u001b[38;5;250m    \u001b[39m\u001b[38;5;124;03m\"\"\" This function runs the test(s) and then returns the result.\"\"\"\u001b[39;00m\n\u001b[1;32m---> 24\u001b[0m     \u001b[38;5;28mself\u001b[39m\u001b[38;5;241m.\u001b[39mtest()\n\u001b[0;32m     25\u001b[0m     \u001b[38;5;28;01mreturn\u001b[39;00m \u001b[38;5;28mself\u001b[39m\u001b[38;5;241m.\u001b[39mall_tests_passed\n",
      "File \u001b[1;32mc:\\Users\\leonh\\OneDrive\\Desktop\\UvA\\Year2_2\\Semster 1\\computational-thinking-week-group-ROBOCOPS\\challenge_day2\\tests\\tests.py:9\u001b[0m, in \u001b[0;36mTest_Exercise_Values.test\u001b[1;34m(self)\u001b[0m\n\u001b[0;32m      8\u001b[0m \u001b[38;5;28;01mdef\u001b[39;00m \u001b[38;5;21mtest\u001b[39m(\u001b[38;5;28mself\u001b[39m):\n\u001b[1;32m----> 9\u001b[0m     \u001b[38;5;28mself\u001b[39m\u001b[38;5;241m.\u001b[39mio_pair((\u001b[38;5;124m'\u001b[39m\u001b[38;5;124m00:01\u001b[39m\u001b[38;5;124m'\u001b[39m, \u001b[38;5;241m5\u001b[39m, \u001b[38;5;124m'\u001b[39m\u001b[38;5;124m1990-01-01\u001b[39m\u001b[38;5;124m'\u001b[39m, \u001b[38;5;241m3\u001b[39m, \u001b[38;5;241m1\u001b[39m, \u001b[38;5;124m'\u001b[39m\u001b[38;5;124mAlexandra\u001b[39m\u001b[38;5;124m'\u001b[39m, \u001b[38;5;241m9\u001b[39m, \u001b[38;5;124m'\u001b[39m\u001b[38;5;124ma+b\u001b[39m\u001b[38;5;124m'\u001b[39m),\u001b[38;5;241m1.50816470189193e+16\u001b[39m)\n\u001b[0;32m     10\u001b[0m     \u001b[38;5;28mself\u001b[39m\u001b[38;5;241m.\u001b[39mio_pair((\u001b[38;5;124m'\u001b[39m\u001b[38;5;124m00:02\u001b[39m\u001b[38;5;124m'\u001b[39m, \u001b[38;5;241m6\u001b[39m, \u001b[38;5;124m'\u001b[39m\u001b[38;5;124m1990-01-02\u001b[39m\u001b[38;5;124m'\u001b[39m, \u001b[38;5;241m4\u001b[39m, \u001b[38;5;241m2\u001b[39m, \u001b[38;5;124m'\u001b[39m\u001b[38;5;124mAlexandra\u001b[39m\u001b[38;5;124m'\u001b[39m, \u001b[38;5;241m8\u001b[39m, \u001b[38;5;124m'\u001b[39m\u001b[38;5;124mb+c\u001b[39m\u001b[38;5;124m'\u001b[39m),\u001b[38;5;241m7.241826719742992e+16\u001b[39m)\n\u001b[0;32m     11\u001b[0m     \u001b[38;5;28mself\u001b[39m\u001b[38;5;241m.\u001b[39mio_pair((\u001b[38;5;124m'\u001b[39m\u001b[38;5;124m00:03\u001b[39m\u001b[38;5;124m'\u001b[39m, \u001b[38;5;241m7\u001b[39m, \u001b[38;5;124m'\u001b[39m\u001b[38;5;124m1990-01-03\u001b[39m\u001b[38;5;124m'\u001b[39m, \u001b[38;5;241m5\u001b[39m, \u001b[38;5;241m3\u001b[39m, \u001b[38;5;124m'\u001b[39m\u001b[38;5;124mAlexandra\u001b[39m\u001b[38;5;124m'\u001b[39m, \u001b[38;5;241m7\u001b[39m, \u001b[38;5;124m'\u001b[39m\u001b[38;5;124md*e\u001b[39m\u001b[38;5;124m'\u001b[39m),\u001b[38;5;241m9.116784517346144e+16\u001b[39m)\n",
      "File \u001b[1;32mc:\\Users\\leonh\\OneDrive\\Desktop\\UvA\\Year2_2\\Semster 1\\computational-thinking-week-group-ROBOCOPS\\utility\\edutest\\edutest.py:45\u001b[0m, in \u001b[0;36mTestCase.io_pair\u001b[1;34m(self, input, expected_output, approximate)\u001b[0m\n\u001b[0;32m     44\u001b[0m \u001b[38;5;28;01mdef\u001b[39;00m \u001b[38;5;21mio_pair\u001b[39m(\u001b[38;5;28mself\u001b[39m, \u001b[38;5;28minput\u001b[39m, expected_output, approximate\u001b[38;5;241m=\u001b[39m\u001b[38;5;28;01mFalse\u001b[39;00m):\n\u001b[1;32m---> 45\u001b[0m     real_output \u001b[38;5;241m=\u001b[39m \u001b[38;5;28mself\u001b[39m\u001b[38;5;241m.\u001b[39mtested_func(\u001b[38;5;28minput\u001b[39m)\n\u001b[0;32m     46\u001b[0m     assertion \u001b[38;5;241m=\u001b[39m TestCase\u001b[38;5;241m.\u001b[39mAssertEquals \u001b[38;5;28;01mif\u001b[39;00m \u001b[38;5;129;01mnot\u001b[39;00m approximate \u001b[38;5;28;01melse\u001b[39;00m TestCase\u001b[38;5;241m.\u001b[39mAssertEqualsApproximate\n\u001b[0;32m     47\u001b[0m     \u001b[38;5;28;01mif\u001b[39;00m assertion(real_output, expected_output):\n",
      "Cell \u001b[1;32mIn[8], line 29\u001b[0m, in \u001b[0;36mcombined_algorithm\u001b[1;34m(observations)\u001b[0m\n\u001b[0;32m     27\u001b[0m \u001b[38;5;28;01massert\u001b[39;00m \u001b[38;5;28misinstance\u001b[39m(output3, \u001b[38;5;28mbool\u001b[39m)\n\u001b[0;32m     28\u001b[0m \u001b[38;5;28;01massert\u001b[39;00m \u001b[38;5;28misinstance\u001b[39m(output4, \u001b[38;5;28mbool\u001b[39m)\n\u001b[1;32m---> 29\u001b[0m \u001b[38;5;28;01massert\u001b[39;00m \u001b[38;5;28misinstance\u001b[39m(output5, \u001b[38;5;28mint\u001b[39m)\n\u001b[0;32m     30\u001b[0m \u001b[38;5;28;01massert\u001b[39;00m \u001b[38;5;28misinstance\u001b[39m(output6, \u001b[38;5;28mfloat\u001b[39m)\n\u001b[0;32m     31\u001b[0m \u001b[38;5;28;01massert\u001b[39;00m \u001b[38;5;28misinstance\u001b[39m(output7, \u001b[38;5;28mfloat\u001b[39m)\n",
      "\u001b[1;31mAssertionError\u001b[0m: "
     ]
    }
   ],
   "source": [
    "from tests import tests\n",
    "from station1 import solution_station_1\n",
    "from station2 import solution_station_2\n",
    "from station3 import solution_station_3\n",
    "from station4 import solution_station_4\n",
    "from station5 import solution_station_5\n",
    "from station6 import solution_station_6\n",
    "from station7 import solution_station_7\n",
    "\n",
    "# List three observations of all inputs (not sample inputs) observed at the same time\n",
    "# Format: (time: str, station1_input: int, station2_input: str, station3_input: int, station4_input: int, station5_input: str, station6_input: int, station7_input: str)\n",
    "# Example: ('12:30:00', 1, '1990-01-01', 2, 3, \"John\", 4, \"e=mc^2\")\n",
    "observation1 = (\"10:49:30\", 61, \"2024-12-02\", 66650, 6665, \"Benedikt\", 66, \"c*a\")\n",
    "observation2 = (\"10:49:40\", 95, \"2024-04-01\", 14824, 1482, \"Lotte\", 14, \"e+c+b+d\")\n",
    "observation3 = (\"10:49:50\", 91, \"2024-01-13\", 23427, 2342, \"Lena\", 23, \"d+a+e\")\n",
    "\n",
    "def combined_algorithm(observations: tuple) -> int:\n",
    "    output1 = solution_station_1(observations[1])\n",
    "    output2 = solution_station_2(observations[2])\n",
    "    output3 = solution_station_3(observations[3])\n",
    "    output4 = solution_station_4(observations[4])\n",
    "    output5 = solution_station_5(observations[5])\n",
    "    output6 = solution_station_6(observations[6])\n",
    "    output7 = solution_station_7(observations[7])\n",
    "    assert isinstance(output1, int)\n",
    "    assert isinstance(output2, str)\n",
    "    assert isinstance(output3, bool)\n",
    "    assert isinstance(output4, bool)\n",
    "    assert isinstance(output5, int)\n",
    "    assert isinstance(output6, float)\n",
    "    assert isinstance(output7, float)\n",
    "\n",
    "    return output1 * int.from_bytes(output2[0].encode(\"unicode_escape\"), byteorder='big') * (3 if output3 else 2) * (5 if output4 else 4) * output5 * output6 * output7\n",
    "\n",
    "FINAL_OUTPUT1 = combined_algorithm(observation1)\n",
    "FINAL_OUTPUT2 = combined_algorithm(observation2)\n",
    "FINAL_OUTPUT3 = combined_algorithm(observation3)\n",
    "tests.Test_Exercise(combined_algorithm);"
   ]
  }
 ],
 "metadata": {
  "kernelspec": {
   "display_name": "base",
   "language": "python",
   "name": "python3"
  },
  "language_info": {
   "codemirror_mode": {
    "name": "ipython",
    "version": 3
   },
   "file_extension": ".py",
   "mimetype": "text/x-python",
   "name": "python",
   "nbconvert_exporter": "python",
   "pygments_lexer": "ipython3",
   "version": "3.11.7"
  },
  "orig_nbformat": 4
 },
 "nbformat": 4,
 "nbformat_minor": 2
}
